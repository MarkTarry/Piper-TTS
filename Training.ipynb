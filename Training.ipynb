{
  "nbformat": 4,
  "nbformat_minor": 0,
  "metadata": {
    "colab": {
      "provenance": [],
      "gpuType": "T4",
      "include_colab_link": true
    },
    "kernelspec": {
      "name": "python3",
      "display_name": "Python 3"
    },
    "language_info": {
      "name": "python"
    },
    "accelerator": "GPU"
  },
  "cells": [
    {
      "cell_type": "markdown",
      "metadata": {
        "id": "view-in-github",
        "colab_type": "text"
      },
      "source": [
        "<a href=\"https://colab.research.google.com/github/MarkTarry/Piper-TTS/blob/main/Training.ipynb\" target=\"_parent\"><img src=\"https://colab.research.google.com/assets/colab-badge.svg\" alt=\"Open In Colab\"/></a>"
      ]
    },
    {
      "cell_type": "markdown",
      "source": [
        "Mount Google Drive for datasets and outputs"
      ],
      "metadata": {
        "id": "xsmEOdPpRjPo"
      }
    },
    {
      "cell_type": "code",
      "source": [
        "from google.colab import drive\n",
        "DRIVE_MOUNT_DIR = '/content/drive'\n",
        "drive.mount(DRIVE_MOUNT_DIR)\n",
        "\n",
        "PIPER_DATA_DIR = f\"{DRIVE_MOUNT_DIR}/MyDrive/Piper\""
      ],
      "metadata": {
        "id": "S82oT9EaRlR0"
      },
      "execution_count": null,
      "outputs": []
    },
    {
      "cell_type": "code",
      "source": [
        "# VOICE_NAME=\"jarvis\"\n",
        "# ESPEAK_LANGUAGE=\"en\"\n",
        "# IETF_BCP_47_LANGUAGE=\"en_GB\"\n",
        "\n",
        "VOICE_NAME=\"majelbarret\"\n",
        "ESPEAK_LANGUAGE=\"en-us\"\n",
        "IETF_BCP_47_LANGUAGE=\"en_US\""
      ],
      "metadata": {
        "id": "_kIjnYp7Cxvi"
      },
      "execution_count": null,
      "outputs": []
    },
    {
      "cell_type": "markdown",
      "source": [
        "Colab runtime + GPU check"
      ],
      "metadata": {
        "id": "ulTkpdiGQjI4"
      }
    },
    {
      "cell_type": "code",
      "execution_count": null,
      "metadata": {
        "id": "Y37QtlLmPuqT"
      },
      "outputs": [],
      "source": [
        "# Check GPU\n",
        "import torch, platform, sys\n",
        "print(\"Python:\", sys.version.split()[0])\n",
        "print(\"PyTorch:\", torch.__version__)\n",
        "print(\"CUDA available:\", torch.cuda.is_available())\n",
        "!nvidia-smi"
      ]
    },
    {
      "cell_type": "markdown",
      "source": [
        "System packages (incl. eSpeak dev)"
      ],
      "metadata": {
        "id": "tRWDRJUpQrfw"
      }
    },
    {
      "cell_type": "code",
      "source": [
        "!sudo apt-get update -y\n",
        "!sudo apt-get install -y build-essential cmake ninja-build espeak-ng espeak-ng-data libespeak-ng-dev pkg-config ffmpeg\n",
        "!pkg-config --modversion espeak-ng"
      ],
      "metadata": {
        "id": "aN5lcQRZQs3D"
      },
      "execution_count": null,
      "outputs": []
    },
    {
      "cell_type": "markdown",
      "source": [
        "Clone repo fresh"
      ],
      "metadata": {
        "id": "J_MRPygaQ1cQ"
      }
    },
    {
      "cell_type": "code",
      "source": [
        "%cd /content\n",
        "!rm -rf piper1-gpl\n",
        "!git clone https://github.com/OHF-voice/piper1-gpl.git\n",
        "%cd piper1-gpl\n",
        "!pwd"
      ],
      "metadata": {
        "id": "w-0x1IWPQ7UB"
      },
      "execution_count": null,
      "outputs": []
    },
    {
      "cell_type": "markdown",
      "source": [
        "Python deps (editable install, no venv in Colab)"
      ],
      "metadata": {
        "id": "k_qVUXtoRArT"
      }
    },
    {
      "cell_type": "code",
      "source": [
        "!python3 -m pip install --upgrade pip setuptools wheel\n",
        "!python3 -m pip install -e \".[train]\""
      ],
      "metadata": {
        "id": "L9ARM5C9RDZ_"
      },
      "execution_count": null,
      "outputs": []
    },
    {
      "cell_type": "markdown",
      "source": [
        "Build the Cython extension used for alignment"
      ],
      "metadata": {
        "id": "OXkhMJRkRUGk"
      }
    },
    {
      "cell_type": "code",
      "source": [
        "%cd /content/piper1-gpl\n",
        "!chmod +x ./build_monotonic_align.sh\n",
        "!./build_monotonic_align.sh"
      ],
      "metadata": {
        "id": "EMQF3quvRVe7"
      },
      "execution_count": null,
      "outputs": []
    },
    {
      "cell_type": "markdown",
      "source": [
        "Dev build (repo mode)"
      ],
      "metadata": {
        "id": "f8P9iQhjRa81"
      }
    },
    {
      "cell_type": "code",
      "source": [
        "!python3 -m pip install --upgrade pip setuptools wheel scikit-build cmake ninja"
      ],
      "metadata": {
        "id": "ZIcRcqt6p3kM"
      },
      "execution_count": null,
      "outputs": []
    },
    {
      "cell_type": "code",
      "source": [
        "%cd /content/piper1-gpl\n",
        "!python3 setup.py build_ext --inplace -v"
      ],
      "metadata": {
        "id": "bTNUkZKmRcJb"
      },
      "execution_count": null,
      "outputs": []
    },
    {
      "cell_type": "markdown",
      "source": [
        "Set paths and training hyperparams"
      ],
      "metadata": {
        "id": "bRewWxitSmSr"
      }
    },
    {
      "cell_type": "code",
      "source": [
        "from pathlib import Path\n",
        "import os\n",
        "\n",
        "# ==== CHANGE THESE ====\n",
        "SAMPLE_RATE_HZ  = 22050\n",
        "BATCH_SIZE      = 32       # drop to 8 or 4 if you OOM\n",
        "\n",
        "VOICE_DATA_DIR  = Path(f\"{PIPER_DATA_DIR}/{VOICE_NAME}\")\n",
        "AUDIO_DIR       = VOICE_DATA_DIR / \"wavs\"\n",
        "CSV_PATH        = VOICE_DATA_DIR / \"metadata.csv\"\n",
        "CONFIG_PATH     = VOICE_DATA_DIR / \"config.json\"\n",
        "CHECKPOINT_PATH = VOICE_DATA_DIR / \"latest.ckpt\"\n",
        "if not CHECKPOINT_PATH.exists():\n",
        "    CHECKPOINT_PATH = \"https://huggingface.co/datasets/rhasspy/piper-checkpoints/resolve/main/en/en_US/lessac/medium/epoch%3D2164-step%3D1355540.ckpt\"\n",
        "\n",
        "CACHE_DIR       = Path(f\"/content/piper_cache/{VOICE_NAME}\")\n",
        "\n",
        "# Make sure dirs exist\n",
        "CACHE_DIR.mkdir(parents=True, exist_ok=True)\n",
        "print(\"CSV exists:\", CSV_PATH.exists())\n",
        "print(\"Audio dir exists:\", AUDIO_DIR.exists())\n",
        "print(\"Cache dir:\", CACHE_DIR)\n",
        "print(\"Config will be written to:\", CONFIG_PATH)\n",
        "print(\"Checkpoint path:\", CHECKPOINT_PATH)"
      ],
      "metadata": {
        "id": "nyXNxSWFSq2u"
      },
      "execution_count": null,
      "outputs": []
    },
    {
      "cell_type": "markdown",
      "source": [
        "Quick sanity checks"
      ],
      "metadata": {
        "id": "YZqVTzcDSwRV"
      }
    },
    {
      "cell_type": "code",
      "source": [
        "import pandas as pd, io, os, textwrap\n",
        "\n",
        "csv_path = str(CSV_PATH)\n",
        "if os.path.exists(csv_path):\n",
        "    # Read as pipe-delimited, two columns\n",
        "    try:\n",
        "        df = pd.read_csv(csv_path, sep=\"|\", header=None, names=[\"audio\",\"text\"])\n",
        "        print(df.head())\n",
        "        # Check a few audio files exist\n",
        "        missing = [a for a in df[\"audio\"].head(5) if not (AUDIO_DIR/str(a)).exists()]\n",
        "        print(\"Missing among first 5:\", missing)\n",
        "    except Exception as e:\n",
        "        print(\"CSV read error:\", e)\n",
        "else:\n",
        "    print(\"CSV not found at:\", csv_path)"
      ],
      "metadata": {
        "id": "JJImgsKzS1pk"
      },
      "execution_count": null,
      "outputs": []
    },
    {
      "cell_type": "markdown",
      "source": [
        "# Kick off training\n",
        "\n",
        "`New models typically start ~epoch=2165`"
      ],
      "metadata": {
        "id": "jiggGLHzTxGI"
      }
    },
    {
      "cell_type": "code",
      "source": [
        "!timeout 90m python3 -m piper.train fit \\\n",
        "  --data.voice_name \"$VOICE_NAME\" \\\n",
        "  --data.csv_path \"$CSV_PATH\" \\\n",
        "  --data.audio_dir \"$AUDIO_DIR\" \\\n",
        "  --model.sample_rate 22050 \\\n",
        "  --data.espeak_voice \"$ESPEAK_LANGUAGE\" \\\n",
        "  --data.cache_dir \"$CACHE_DIR\" \\\n",
        "  --data.config_path \"$CONFIG_PATH\" \\\n",
        "  --data.batch_size 8 \\\n",
        "  --ckpt_path \"$CHECKPOINT_PATH\""
      ],
      "metadata": {
        "id": "PZigA3tIUSeh"
      },
      "execution_count": null,
      "outputs": []
    },
    {
      "cell_type": "markdown",
      "source": [
        "Take backup of export"
      ],
      "metadata": {
        "id": "V4PogzHZ9ZqK"
      }
    },
    {
      "cell_type": "code",
      "source": [
        "import os\n",
        "import glob\n",
        "import re\n",
        "\n",
        "# Find the latest version directory\n",
        "lightning_logs_dir = \"/content/piper1-gpl/lightning_logs\"\n",
        "version_dirs = glob.glob(os.path.join(lightning_logs_dir, \"version_*\"))\n",
        "if version_dirs:\n",
        "    latest_version_dir = max(version_dirs, key=os.path.getmtime)\n",
        "    print(f\"Latest version directory found: {latest_version_dir}\")\n",
        "\n",
        "    # Find the first .ckpt file in the latest version directory\n",
        "    ckpt_files = glob.glob(os.path.join(latest_version_dir, \"checkpoints\", \"*.ckpt\"))\n",
        "    if ckpt_files:\n",
        "        first_ckpt_file = min(ckpt_files, key=os.path.getctime)\n",
        "        print(f\"First checkpoint file found: {first_ckpt_file}\")\n",
        "\n",
        "        # Extract epoch and step from the filename\n",
        "        match = re.search(r\"epoch=(\\d+)-step=(\\d+)\", os.path.basename(first_ckpt_file))\n",
        "        if match:\n",
        "            epoch = match.group(1)\n",
        "            step = match.group(2)\n",
        "\n",
        "            file_name = f\"{IETF_BCP_47_LANGUAGE}_{VOICE_NAME}_epoch={epoch}-step={step}\"\n",
        "\n",
        "            !cp -v {first_ckpt_file} {VOICE_DATA_DIR}/{file_name}.ckpt\n",
        "            !cp -v -f {first_ckpt_file} {VOICE_DATA_DIR}/latest.ckpt\n",
        "\n",
        "            !python3 -m piper.train.export_onnx \\\n",
        "                --checkpoint {first_ckpt_file} \\\n",
        "                --output-file {VOICE_DATA_DIR}/{file_name}.onnx\n",
        "\n",
        "            !cp -v {VOICE_DATA_DIR}/config.json {VOICE_DATA_DIR}/{file_name}.onnx.json\n",
        "        else:\n",
        "            print(\"Could not extract epoch and step from checkpoint filename.\")\n",
        "    else:\n",
        "        print(\"No checkpoint files found in the latest version directory.\")\n",
        "else:\n",
        "    print(\"No version directories found in lightning_logs.\")"
      ],
      "metadata": {
        "id": "5fIUlRwW9elN"
      },
      "execution_count": null,
      "outputs": []
    }
  ]
}